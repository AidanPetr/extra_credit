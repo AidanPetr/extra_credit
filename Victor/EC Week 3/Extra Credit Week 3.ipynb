{
 "cells": [
  {
   "cell_type": "code",
   "execution_count": 8,
   "metadata": {},
   "outputs": [],
   "source": [
    "# Given the participants' score sheet for your University Sports Day, \n",
    "# you are required to find the runner-up score. You are given  scores. \n",
    "# Store them in a list and find the score of the runner-up.\n",
    "def getSecondMax(n, arr):\n",
    "    secondMax = -101\n",
    "    firstMax = -101\n",
    "    for elem in arr:\n",
    "        if (elem > firstMax):\n",
    "            secondMax = firstMax\n",
    "            firstMax = elem\n",
    "        elif (elem < firstMax and elem > secondMax):\n",
    "            secondMax = elem\n",
    "    print(secondMax)"
   ]
  },
  {
   "cell_type": "code",
   "execution_count": 16,
   "metadata": {},
   "outputs": [
    {
     "name": "stdout",
     "output_type": "stream",
     "text": [
      "5\n"
     ]
    }
   ],
   "source": [
    "# test 1\n",
    "arr = [2, 3, 6, 6, 5]\n",
    "getSecondMax(5, arr)"
   ]
  },
  {
   "cell_type": "code",
   "execution_count": 17,
   "metadata": {},
   "outputs": [
    {
     "name": "stdout",
     "output_type": "stream",
     "text": [
      "-57\n"
     ]
    }
   ],
   "source": [
    "# test 2\n",
    "arr = [57, 57, -57, -57]\n",
    "getSecondMax(4, arr)"
   ]
  },
  {
   "cell_type": "code",
   "execution_count": 18,
   "metadata": {},
   "outputs": [
    {
     "name": "stdout",
     "output_type": "stream",
     "text": [
      "5\n"
     ]
    }
   ],
   "source": [
    "# test 3\n",
    "arr = [6, 6, 6, 6, 6, 6, 6, 6, 6, 5]\n",
    "getSecondMax(10, arr)"
   ]
  },
  {
   "cell_type": "code",
   "execution_count": 19,
   "metadata": {},
   "outputs": [
    {
     "name": "stdout",
     "output_type": "stream",
     "text": [
      "0\n"
     ]
    }
   ],
   "source": [
    "# test 4\n",
    "arr = [-10, 0, 10]\n",
    "getSecondMax(3, arr)"
   ]
  }
 ],
 "metadata": {
  "kernelspec": {
   "display_name": "Python 3",
   "language": "python",
   "name": "python3"
  },
  "language_info": {
   "codemirror_mode": {
    "name": "ipython",
    "version": 3
   },
   "file_extension": ".py",
   "mimetype": "text/x-python",
   "name": "python",
   "nbconvert_exporter": "python",
   "pygments_lexer": "ipython3",
   "version": "3.8.3"
  }
 },
 "nbformat": 4,
 "nbformat_minor": 4
}
