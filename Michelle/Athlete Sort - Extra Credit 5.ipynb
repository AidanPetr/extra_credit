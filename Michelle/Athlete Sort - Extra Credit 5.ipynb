{
 "cells": [
  {
   "cell_type": "markdown",
   "metadata": {},
   "source": [
    "Prompt: https://www.hackerrank.com/challenges/python-sort-sort/problem"
   ]
  },
  {
   "cell_type": "code",
   "execution_count": 98,
   "metadata": {},
   "outputs": [],
   "source": [
    "def sort_athletes(s):\n",
    "    input = s.split()\n",
    "    num_of_athletes = int(input[0])\n",
    "    num_of_attributes = int(input[1])\n",
    "    dict_athletes = {}\n",
    "    for i in range(num_of_athletes):\n",
    "        dict_athletes[i] = input[i*num_of_attributes+2:i*num_of_attributes+2+num_of_attributes]\n",
    "    sort_based = int(input[len(input)-1])\n",
    "    sort_list = []\n",
    "    for i in range(num_of_athletes):\n",
    "        sort_list.append(int(dict_athletes[i][sort_based]))\n",
    "    sort_list.sort()\n",
    "    for j in range(len(sort_list)):\n",
    "        for i in range(num_of_athletes):\n",
    "            if(int(dict_athletes[i][sort_based]) == sort_list[j]):\n",
    "                temp = []\n",
    "                str = \" \"\n",
    "                str = str.join(dict_athletes[i])\n",
    "                print(str)\n",
    "                for k in range(num_of_attributes):\n",
    "                    temp.append(\"-1\")\n",
    "                dict_athletes[i] = temp"
   ]
  },
  {
   "cell_type": "code",
   "execution_count": 99,
   "metadata": {},
   "outputs": [
    {
     "name": "stdout",
     "output_type": "stream",
     "text": [
      "7 1 0\n",
      "10 2 5\n",
      "6 5 9\n",
      "9 9 9\n",
      "1 23 12\n"
     ]
    }
   ],
   "source": [
    "sort_athletes(\"5 3 10 2 5 7 1 0 9 9 9 1 23 12 6 5 9 1\")"
   ]
  },
  {
   "cell_type": "code",
   "execution_count": 100,
   "metadata": {},
   "outputs": [
    {
     "name": "stdout",
     "output_type": "stream",
     "text": [
      "7 1 0\n",
      "10 2 5\n",
      "9 9 9\n",
      "6 5 9\n",
      "1 23 12\n"
     ]
    }
   ],
   "source": [
    "sort_athletes(\"5 3 10 2 5 7 1 0 9 9 9 1 23 12 6 5 9 2\")"
   ]
  },
  {
   "cell_type": "code",
   "execution_count": 101,
   "metadata": {},
   "outputs": [
    {
     "name": "stdout",
     "output_type": "stream",
     "text": [
      "1 23 12\n",
      "6 5 9\n",
      "7 1 0\n",
      "9 9 9\n",
      "10 2 5\n"
     ]
    }
   ],
   "source": [
    "sort_athletes(\"5 3 10 2 5 7 1 0 9 9 9 1 23 12 6 5 9 0\")"
   ]
  },
  {
   "cell_type": "code",
   "execution_count": null,
   "metadata": {},
   "outputs": [],
   "source": []
  }
 ],
 "metadata": {
  "kernelspec": {
   "display_name": "Python 3",
   "language": "python",
   "name": "python3"
  },
  "language_info": {
   "codemirror_mode": {
    "name": "ipython",
    "version": 3
   },
   "file_extension": ".py",
   "mimetype": "text/x-python",
   "name": "python",
   "nbconvert_exporter": "python",
   "pygments_lexer": "ipython3",
   "version": "3.7.6"
  }
 },
 "nbformat": 4,
 "nbformat_minor": 4
}
