{
 "cells": [
  {
   "cell_type": "markdown",
   "metadata": {},
   "source": [
    "Propmt: https://www.hackerrank.com/challenges/find-angle/problem"
   ]
  },
  {
   "cell_type": "markdown",
   "metadata": {},
   "source": [
    "The input is a string of two natural numbers with a space separating them"
   ]
  },
  {
   "cell_type": "code",
   "execution_count": 159,
   "metadata": {},
   "outputs": [],
   "source": [
    "def get_Angle(s):\n",
    "    side_length = s.split(\" \") # isolates each side length\n",
    "    side_AB = int(side_length[0]) # converts side length to an int\n",
    "    side_BC = int(side_length[1])\n",
    "    import math # import needed classes to perform math\n",
    "    import numpy as np\n",
    "    mindpoint_hypotenuse = (math.sqrt(side_AB**2 + side_BC**2) / 2) # calculate the hypotenuse then divide by 2 to get midpoint\n",
    "    degrees = math.degrees(np.arcsin(mindpoint_hypotenuse / side_BC)) # calculate the angle using arcsin and converting to degrees\n",
    "    if ((x*10)%10 >= 5): # allowing for proper rounding of the float\n",
    "        degrees = int(math.ceil(degrees))\n",
    "    else:\n",
    "        degrees = int(round(degrees))\n",
    "    answer = str(degrees) + '\\N{DEGREE SIGN}' # adds the degree symbol\n",
    "    print(answer) # prints final result"
   ]
  },
  {
   "cell_type": "code",
   "execution_count": 160,
   "metadata": {},
   "outputs": [
    {
     "name": "stdout",
     "output_type": "stream",
     "text": [
      "45°\n"
     ]
    }
   ],
   "source": [
    "get_Angle(\"10 10\")"
   ]
  }
 ],
 "metadata": {
  "kernelspec": {
   "display_name": "Python 3",
   "language": "python",
   "name": "python3"
  },
  "language_info": {
   "codemirror_mode": {
    "name": "ipython",
    "version": 3
   },
   "file_extension": ".py",
   "mimetype": "text/x-python",
   "name": "python",
   "nbconvert_exporter": "python",
   "pygments_lexer": "ipython3",
   "version": "3.7.6"
  }
 },
 "nbformat": 4,
 "nbformat_minor": 4
}
