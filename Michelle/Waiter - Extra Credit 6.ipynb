{
 "cells": [
  {
   "cell_type": "markdown",
   "metadata": {},
   "source": [
    "Prompt: https://www.hackerrank.com/challenges/waiter/problem"
   ]
  },
  {
   "cell_type": "code",
   "execution_count": 1,
   "metadata": {},
   "outputs": [],
   "source": [
    "def prime_plates(s):\n",
    "    str = s.split() # splits the string by spaces to isolate the ints\n",
    "    iterations = int(str[1]) # number of times that the plates are divided by prime numbers\n",
    "    plates = []\n",
    "    for i in range(2,len(str)): # puts the numbered plates into a list\n",
    "        plates.append(int(str[i]))\n",
    "    primes = []\n",
    "    num = 2\n",
    "    while(not (len(primes) == iterations)): # creates a list of the needed length of prime numbers\n",
    "        if(num == 2):\n",
    "            primes.append(num)\n",
    "            num += 1\n",
    "        else:\n",
    "            for j in range(2, num): #checks if num is prime\n",
    "                if ((num % j) == 0):\n",
    "                    isPrime = False\n",
    "                    break\n",
    "                else:\n",
    "                    isPrime = True\n",
    "            if(isPrime):\n",
    "                primes.append(num)\n",
    "            num += 1\n",
    "    for k in range(0,len(primes)): # checks all the plates to see if they are divisible by each prime number\n",
    "        temp = []\n",
    "        indices = []\n",
    "        for i in range(len(plates)-1,-1,-1):\n",
    "            if((plates[i] % primes[k]) == 0):\n",
    "                temp.append(plates[i])\n",
    "                indices.append(i)\n",
    "        for j in range(len(temp)-1,-1,-1): # prints out the divisible plates\n",
    "            print(temp[j])\n",
    "        for q in range(0,len(indices)):\n",
    "            plates.remove(plates[indices[q]])\n",
    "        plates.reverse()\n",
    "    for i in range(len(plates)-1,-1,-1): # prints out the remaining plates from top to bottom that were not divisible by any of the prime numbers\n",
    "        print(plates[i])"
   ]
  },
  {
   "cell_type": "code",
   "execution_count": 2,
   "metadata": {
    "scrolled": true
   },
   "outputs": [
    {
     "name": "stdout",
     "output_type": "stream",
     "text": [
      "4\n",
      "4\n",
      "9\n",
      "3\n",
      "3\n"
     ]
    }
   ],
   "source": [
    "prime_plates('5 2 3 3 4 4 9')"
   ]
  },
  {
   "cell_type": "code",
   "execution_count": 3,
   "metadata": {
    "scrolled": false
   },
   "outputs": [
    {
     "name": "stdout",
     "output_type": "stream",
     "text": [
      "4\n",
      "6\n",
      "3\n",
      "7\n",
      "5\n"
     ]
    }
   ],
   "source": [
    "prime_plates('5 1 3 4 7 6 5')"
   ]
  },
  {
   "cell_type": "code",
   "execution_count": 4,
   "metadata": {},
   "outputs": [
    {
     "name": "stdout",
     "output_type": "stream",
     "text": [
      "8\n",
      "18\n",
      "2\n",
      "30\n",
      "4\n",
      "15\n",
      "5\n",
      "23\n",
      "11\n",
      "1\n"
     ]
    }
   ],
   "source": [
    "prime_plates('10 2 1 8 11 23 18 2 15 30 4 5')"
   ]
  },
  {
   "cell_type": "code",
   "execution_count": null,
   "metadata": {},
   "outputs": [],
   "source": []
  }
 ],
 "metadata": {
  "kernelspec": {
   "display_name": "Python 3",
   "language": "python",
   "name": "python3"
  },
  "language_info": {
   "codemirror_mode": {
    "name": "ipython",
    "version": 3
   },
   "file_extension": ".py",
   "mimetype": "text/x-python",
   "name": "python",
   "nbconvert_exporter": "python",
   "pygments_lexer": "ipython3",
   "version": "3.7.6"
  }
 },
 "nbformat": 4,
 "nbformat_minor": 4
}
