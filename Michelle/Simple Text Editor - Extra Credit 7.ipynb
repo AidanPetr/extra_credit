{
 "cells": [
  {
   "cell_type": "markdown",
   "metadata": {},
   "source": [
    "Prompt: https://www.hackerrank.com/challenges/simple-text-editor/problem"
   ]
  },
  {
   "cell_type": "code",
   "execution_count": 80,
   "metadata": {},
   "outputs": [],
   "source": [
    "def string_operations(op):\n",
    "    s = \"\"\n",
    "    prevStrings = [] # holds all the changes to the string done by operations 1 and 2\n",
    "    input = op.split()\n",
    "    numOfOps =  input[0]\n",
    "    index = 1\n",
    "    while index < len(input) - 1: # loops until no more operations to read\n",
    "        action = input[index]\n",
    "        if(int(action) == 1): # appends to end of string\n",
    "            s += input[index+1]\n",
    "            index += 2\n",
    "            prevStrings.append(s)\n",
    "        elif(int(action) == 2): # deletes the last couple of letters from the string depending on the next input\n",
    "            s = s[0:(len(s) - int(input[index+1]))]\n",
    "            index += 2\n",
    "            prevStrings.append(s)\n",
    "        elif(int(action) == 3): # prints out the character at a certain position depending on the next input\n",
    "            print(s[int(input[index+1])-1:int(input[index+1])])\n",
    "            index += 2\n",
    "        else: # operation 4, which restores the string to the last previous string before a change\n",
    "            temp = prevStrings.copy()\n",
    "            temp.reverse()\n",
    "            prevIndex = temp.index(s)\n",
    "            temp.reverse()\n",
    "            s = temp.pop(len(temp) - (2 + prevIndex))\n",
    "            index += 1"
   ]
  },
  {
   "cell_type": "code",
   "execution_count": 81,
   "metadata": {},
   "outputs": [
    {
     "name": "stdout",
     "output_type": "stream",
     "text": [
      "c\n",
      "y\n",
      "a\n"
     ]
    }
   ],
   "source": [
    "string_operations(\"8 1 abc 3 3 2 3 1 xy 3 2 4 4 3 1\")"
   ]
  },
  {
   "cell_type": "code",
   "execution_count": 82,
   "metadata": {},
   "outputs": [
    {
     "name": "stdout",
     "output_type": "stream",
     "text": [
      "a\n",
      "b\n",
      "b\n",
      "g\n"
     ]
    }
   ],
   "source": [
    "string_operations(\"10 1 abcde 2 3 3 1 3 2 1 xyz 4 1 ghi 2 2 3 2 3 3\")"
   ]
  },
  {
   "cell_type": "code",
   "execution_count": 83,
   "metadata": {
    "scrolled": true
   },
   "outputs": [
    {
     "name": "stdout",
     "output_type": "stream",
     "text": [
      "a\n",
      "b\n",
      "b\n",
      "g\n",
      "x\n"
     ]
    }
   ],
   "source": [
    "string_operations(\"13 1 abcde 2 3 3 1 3 2 1 xyz 4 1 ghi 2 2 3 2 3 3 4 4 3 3\")"
   ]
  },
  {
   "cell_type": "code",
   "execution_count": 84,
   "metadata": {},
   "outputs": [
    {
     "name": "stdout",
     "output_type": "stream",
     "text": [
      "a\n",
      "b\n",
      "b\n",
      "g\n",
      "x\n",
      "b\n"
     ]
    }
   ],
   "source": [
    "string_operations(\"15 1 abcde 2 3 3 1 3 2 1 xyz 4 1 ghi 2 2 3 2 3 3 4 4 3 3 4 3 2\")"
   ]
  },
  {
   "cell_type": "code",
   "execution_count": null,
   "metadata": {},
   "outputs": [],
   "source": []
  }
 ],
 "metadata": {
  "kernelspec": {
   "display_name": "Python 3",
   "language": "python",
   "name": "python3"
  },
  "language_info": {
   "codemirror_mode": {
    "name": "ipython",
    "version": 3
   },
   "file_extension": ".py",
   "mimetype": "text/x-python",
   "name": "python",
   "nbconvert_exporter": "python",
   "pygments_lexer": "ipython3",
   "version": "3.7.6"
  }
 },
 "nbformat": 4,
 "nbformat_minor": 4
}
