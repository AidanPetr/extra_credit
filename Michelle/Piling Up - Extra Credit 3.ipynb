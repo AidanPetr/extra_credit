{
 "cells": [
  {
   "cell_type": "markdown",
   "metadata": {},
   "source": [
    "Prompt: https://www.hackerrank.com/challenges/piling-up/problem"
   ]
  },
  {
   "cell_type": "markdown",
   "metadata": {},
   "source": [
    "Input Format:  \n",
    "The first line contains a single integer , the number of test cases.   \n",
    "For each test case, there are  lines.   \n",
    "The first line of each test case contains , the number of cubes. \n",
    "The second line contains  space separated integers, denoting the sideLengths of each cube in that order."
   ]
  },
  {
   "cell_type": "markdown",
   "metadata": {},
   "source": [
    "The input for the method will be a string of integers spearated by spaces.  \n",
    "The first number in the string will denote how many test cases there are and each test case follows."
   ]
  },
  {
   "cell_type": "code",
   "execution_count": 35,
   "metadata": {},
   "outputs": [],
   "source": [
    "def can_stack(s):\n",
    "    import string\n",
    "    s = s.translate({ord(c): None for c in string.whitespace})\n",
    "    #print(s)\n",
    "    num_cases = int(s[0])\n",
    "    index = 1\n",
    "    for i in range (0,num_cases):\n",
    "        fail = False\n",
    "        num_cubes = int(s[index])\n",
    "        index += 1\n",
    "        stack = []\n",
    "        previous = 0\n",
    "        new = 0\n",
    "        for j in range (0, num_cubes):\n",
    "            stack.append(int(s[index]))\n",
    "            index += 1\n",
    "        #print(stack)\n",
    "        while len(stack) > 0:\n",
    "            if(stack[0] >= stack[len(stack)-1]):\n",
    "                    new = stack.pop(0)\n",
    "            elif (stack[len(stack)-1] > stack[0]):\n",
    "                    new = stack.pop()\n",
    "            if(previous == 0):\n",
    "                previous = new\n",
    "            if(new > previous):\n",
    "                print('No')\n",
    "                fail = True\n",
    "                stack.clear()\n",
    "            else:\n",
    "                previous = new\n",
    "                \n",
    "            #print(stack)\n",
    "        if(not fail):\n",
    "            print('Yes')"
   ]
  },
  {
   "cell_type": "code",
   "execution_count": 36,
   "metadata": {
    "scrolled": true
   },
   "outputs": [
    {
     "name": "stdout",
     "output_type": "stream",
     "text": [
      "Yes\n",
      "No\n"
     ]
    }
   ],
   "source": [
    "can_stack('2 6 4 3 2 1 3 4 3 1 3 2')"
   ]
  },
  {
   "cell_type": "code",
   "execution_count": 37,
   "metadata": {},
   "outputs": [
    {
     "name": "stdout",
     "output_type": "stream",
     "text": [
      "Yes\n",
      "No\n",
      "No\n"
     ]
    }
   ],
   "source": [
    "can_stack('3 5 4 3 2 1 3 3 1 3 2 6 3 2 1 3 2 4')"
   ]
  },
  {
   "cell_type": "markdown",
   "metadata": {},
   "source": [
    "This improved method takes in console input from the user to make it more functional"
   ]
  },
  {
   "cell_type": "code",
   "execution_count": 2,
   "metadata": {},
   "outputs": [],
   "source": [
    "def stack():\n",
    "    print('How many test cases do you have:')\n",
    "    num_cases = int(input())\n",
    "    index = 1\n",
    "    entered_list = []\n",
    "    for i in range (0,num_cases):\n",
    "        print('Enter the number of the number of cubes for case ', i+1, ':')\n",
    "        entered_list.append(int(input()))\n",
    "        print('Type out the side length of each cube with a space inbetween:')\n",
    "        entered_list.append(input())\n",
    "    print()\n",
    "    for i in range (0, int(len(entered_list)/2)):\n",
    "        cube_list = []\n",
    "        num_cubes = entered_list.pop(0)\n",
    "        string_cubes = entered_list.pop(0)\n",
    "        import string\n",
    "        string_cubes = string_cubes.translate({ord(c): None for c in string.whitespace})\n",
    "        for j in range (0,num_cubes):\n",
    "            cube_list.append(int(string_cubes[j]))\n",
    "        \n",
    "        fail = False\n",
    "        previous = 0\n",
    "        new = 0                    \n",
    "       \n",
    "        while len(cube_list) > 0:\n",
    "            if(cube_list[0] >= cube_list[len(cube_list)-1]):\n",
    "                    new = cube_list.pop(0)\n",
    "            elif (cube_list[len(cube_list)-1] > cube_list[0]):\n",
    "                    new = cube_list.pop()\n",
    "            if(previous == 0):\n",
    "                previous = new\n",
    "            if(new > previous):\n",
    "                print('No')\n",
    "                fail = True\n",
    "                cube_list.clear()\n",
    "            else:\n",
    "                previous = new\n",
    "                \n",
    "        if(not fail):\n",
    "            print('Yes')"
   ]
  },
  {
   "cell_type": "code",
   "execution_count": 3,
   "metadata": {
    "scrolled": false
   },
   "outputs": [
    {
     "name": "stdout",
     "output_type": "stream",
     "text": [
      "How many test cases do you have:\n",
      "2\n",
      "Enter the number of the number of cubes for case  1 :\n",
      "6\n",
      "Type out the side length of each cube with a space inbetween:\n",
      "4 3 2 1 3 4\n",
      "Enter the number of the number of cubes for case  2 :\n",
      "3\n",
      "Type out the side length of each cube with a space inbetween:\n",
      "1 3 2\n",
      "\n",
      "Yes\n",
      "No\n"
     ]
    }
   ],
   "source": [
    "stack()"
   ]
  },
  {
   "cell_type": "code",
   "execution_count": 4,
   "metadata": {},
   "outputs": [
    {
     "name": "stdout",
     "output_type": "stream",
     "text": [
      "How many test cases do you have:\n",
      "3\n",
      "Enter the number of the number of cubes for case  1 :\n",
      "5\n",
      "Type out the side length of each cube with a space inbetween:\n",
      "2 7 8 4 5\n",
      "Enter the number of the number of cubes for case  2 :\n",
      "2\n",
      "Type out the side length of each cube with a space inbetween:\n",
      "1 5\n",
      "Enter the number of the number of cubes for case  3 :\n",
      "7\n",
      "Type out the side length of each cube with a space inbetween:\n",
      "6 6 6 5 6 6 6\n",
      "\n",
      "No\n",
      "Yes\n",
      "Yes\n"
     ]
    }
   ],
   "source": [
    "stack()"
   ]
  }
 ],
 "metadata": {
  "kernelspec": {
   "display_name": "Python 3",
   "language": "python",
   "name": "python3"
  },
  "language_info": {
   "codemirror_mode": {
    "name": "ipython",
    "version": 3
   },
   "file_extension": ".py",
   "mimetype": "text/x-python",
   "name": "python",
   "nbconvert_exporter": "python",
   "pygments_lexer": "ipython3",
   "version": "3.7.6"
  }
 },
 "nbformat": 4,
 "nbformat_minor": 4
}
