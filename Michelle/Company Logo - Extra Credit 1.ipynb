{
 "cells": [
  {
   "cell_type": "markdown",
   "metadata": {},
   "source": [
    "Prompt:\n",
    "A newly opened multinational brand has decided to base their company logo on the three most common characters in the company name. They are now trying out various combinations of company names and logos based on this condition. Given a string, which is the company name in lowercase letters, your task is to find the top three most common characters in the string.\n",
    "\n",
    "    Print the three most common characters along with their occurrence count.\n",
    "    Sort in descending order of occurrence count.\n",
    "    If the occurrence count is the same, sort the characters in alphabetical order."
   ]
  },
  {
   "cell_type": "markdown",
   "metadata": {},
   "source": [
    "https://github.com/FRI-Energy-Analytics/extra_credit"
   ]
  },
  {
   "cell_type": "code",
   "execution_count": 201,
   "metadata": {},
   "outputs": [],
   "source": [
    "#This method is overly complex; the second method I wrote is more simplistic\n",
    "def common_Letters(s):\n",
    "    d_letters = {}\n",
    "    inDict = False\n",
    "    for letter in s:\n",
    "        for item in d_letters:\n",
    "            if(letter == item):\n",
    "                d_letters[letter] = d_letters[letter] + 1\n",
    "                inDict = True\n",
    "        if inDict == False:\n",
    "            d_letters[letter] = 1\n",
    "        inDict = False\n",
    "    \n",
    "    s = set(sorted(d_letters.values(), reverse=True))\n",
    "    \n",
    "    ordered = []\n",
    "    final = []\n",
    "    added = False\n",
    "    for count in s:\n",
    "        for item in d_letters:\n",
    "            if(d_letters[item] == count):\n",
    "                for letter in ordered:\n",
    "                    if(item == letter):\n",
    "                        added = True\n",
    "                if(added == False):\n",
    "                    ordered.append(item)\n",
    "                added = False\n",
    "        final = final + sorted(ordered, reverse=True)\n",
    "        ordered.clear()\n",
    "    for num in range(len(final)-1,len(final)-4, -1):\n",
    "        print(final[num], d_letters[final[num]])"
   ]
  },
  {
   "cell_type": "code",
   "execution_count": 210,
   "metadata": {},
   "outputs": [
    {
     "name": "stdout",
     "output_type": "stream",
     "text": [
      "g 2\n",
      "o 2\n",
      "e 1\n"
     ]
    }
   ],
   "source": [
    "common_Letters(\"google\")"
   ]
  },
  {
   "cell_type": "code",
   "execution_count": 2,
   "metadata": {},
   "outputs": [],
   "source": [
    "#This is the more organzied method\n",
    "def most_common(s):\n",
    "    setLetters = set(s)\n",
    "    dictCount = {}\n",
    "    for item in setLetters:\n",
    "        count = 0\n",
    "        for letter in s:\n",
    "            if(letter == item):\n",
    "                count += 1\n",
    "        dictCount[item] = count\n",
    "    \n",
    "    count = sorted(set(dictCount.values()), reverse=True)\n",
    "    \n",
    "    ordered = []\n",
    "    for number in count:\n",
    "        temp = []\n",
    "        for item in dictCount:\n",
    "            if(dictCount[item] == number):\n",
    "                temp.append(item)\n",
    "        temp = sorted(temp)\n",
    "        ordered = ordered + temp\n",
    "    \n",
    "    for i in range(0,3):\n",
    "        print(ordered[i], dictCount[ordered[i]])"
   ]
  },
  {
   "cell_type": "code",
   "execution_count": 7,
   "metadata": {},
   "outputs": [
    {
     "name": "stdout",
     "output_type": "stream",
     "text": [
      "g 2\n",
      "o 2\n",
      "e 1\n"
     ]
    }
   ],
   "source": [
    "most_common(\"google\")"
   ]
  }
 ],
 "metadata": {
  "kernelspec": {
   "display_name": "Python 3",
   "language": "python",
   "name": "python3"
  },
  "language_info": {
   "codemirror_mode": {
    "name": "ipython",
    "version": 3
   },
   "file_extension": ".py",
   "mimetype": "text/x-python",
   "name": "python",
   "nbconvert_exporter": "python",
   "pygments_lexer": "ipython3",
   "version": "3.7.6"
  }
 },
 "nbformat": 4,
 "nbformat_minor": 4
}
