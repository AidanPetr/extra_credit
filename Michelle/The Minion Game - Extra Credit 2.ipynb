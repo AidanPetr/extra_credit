{
 "cells": [
  {
   "cell_type": "markdown",
   "metadata": {},
   "source": [
    "Prompt: https://www.hackerrank.com/challenges/the-minion-game/problem"
   ]
  },
  {
   "cell_type": "code",
   "execution_count": 87,
   "metadata": {},
   "outputs": [],
   "source": [
    "def minion_game(S):\n",
    "    list_words_consonants = []\n",
    "    list_words_vowels = []\n",
    "    vowels = 'AEIOU'\n",
    "    for i in range(0,len(S)):\n",
    "        if(not S[i] in vowels):  # checks if not a vowel\n",
    "            for j in range(len(S),-1,-1):\n",
    "                if(len(S[i:j]) > 0):\n",
    "                    list_words_consonants.append(S[i:j]) # adds the substring to the consonants list\n",
    "                        \n",
    "        else:\n",
    "            for j in range(len(S),0,-1):\n",
    "                if(len(S[i:j]) > 0):\n",
    "                    list_words_vowels.append(S[i:j]) # adds substring to the vowel list\n",
    "                        \n",
    "    # prints out who wins or if it is a draw\n",
    "    if(len(list_words_consonants) == len(list_words_vowels)):\n",
    "        print('Draw')   \n",
    "    elif(len(list_words_consonants) > len(list_words_vowels)):\n",
    "        print('Stuart ', len(list_words_consonants))\n",
    "    else:\n",
    "        print('Kevin ', len(list_words_vowels))\n",
    "        \n",
    "    # print(list_words_consonants)\n",
    "    # print(list_words_vowels)"
   ]
  },
  {
   "cell_type": "code",
   "execution_count": 88,
   "metadata": {},
   "outputs": [
    {
     "name": "stdout",
     "output_type": "stream",
     "text": [
      "Stuart  12\n"
     ]
    }
   ],
   "source": [
    "minion_game('BANANA')"
   ]
  },
  {
   "cell_type": "code",
   "execution_count": 89,
   "metadata": {
    "scrolled": true
   },
   "outputs": [
    {
     "name": "stdout",
     "output_type": "stream",
     "text": [
      "Stuart  9\n"
     ]
    }
   ],
   "source": [
    "minion_game('APPLE')"
   ]
  },
  {
   "cell_type": "code",
   "execution_count": 90,
   "metadata": {},
   "outputs": [
    {
     "name": "stdout",
     "output_type": "stream",
     "text": [
      "Kevin  11\n"
     ]
    }
   ],
   "source": [
    "minion_game('ORANGE')"
   ]
  },
  {
   "cell_type": "code",
   "execution_count": 91,
   "metadata": {},
   "outputs": [
    {
     "name": "stdout",
     "output_type": "stream",
     "text": [
      "Draw\n"
     ]
    }
   ],
   "source": [
    "minion_game('OKOKTOTO')"
   ]
  },
  {
   "cell_type": "code",
   "execution_count": 92,
   "metadata": {},
   "outputs": [
    {
     "name": "stdout",
     "output_type": "stream",
     "text": [
      "Stuart  12\n"
     ]
    }
   ],
   "source": [
    "minion_game('HIHIHI')"
   ]
  }
 ],
 "metadata": {
  "kernelspec": {
   "display_name": "Python 3",
   "language": "python",
   "name": "python3"
  },
  "language_info": {
   "codemirror_mode": {
    "name": "ipython",
    "version": 3
   },
   "file_extension": ".py",
   "mimetype": "text/x-python",
   "name": "python",
   "nbconvert_exporter": "python",
   "pygments_lexer": "ipython3",
   "version": "3.7.6"
  }
 },
 "nbformat": 4,
 "nbformat_minor": 4
}
