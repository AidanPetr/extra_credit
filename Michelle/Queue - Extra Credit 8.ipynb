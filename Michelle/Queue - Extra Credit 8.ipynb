{
 "cells": [
  {
   "cell_type": "markdown",
   "metadata": {},
   "source": [
    "Prompt: https://www.hackerrank.com/challenges/queue-using-two-stacks/problem"
   ]
  },
  {
   "cell_type": "code",
   "execution_count": 59,
   "metadata": {},
   "outputs": [],
   "source": [
    "def queue(s):\n",
    "    numbers = s.split() # breaks the string into individual numbers\n",
    "    num_commands = s[0]\n",
    "    index = 1 # first index of queries\n",
    "    stack1 = [] # create two stacks to function like a queue\n",
    "    stack2 = []\n",
    "    while index < len(numbers):       \n",
    "        if(int(numbers[index]) == 1): # query to add to queue\n",
    "            if(len(stack1) == 0):\n",
    "                stack1.append(int(numbers[index+1]))\n",
    "            else: # adds in the new number then restacks the queue with the last index as the front\n",
    "                while len(stack1) > 0:\n",
    "                    stack2.append(stack1.pop())\n",
    "                stack1.append(int(numbers[index+1]))\n",
    "                while len(stack2) > 0:\n",
    "                    stack1.append(stack2.pop())\n",
    "            index += 2\n",
    "        elif(int(numbers[index]) == 2): # query to remove from queue\n",
    "            stack1.pop()\n",
    "            index += 1\n",
    "        elif(int(numbers[index]) == 3): # query to print the head of queue\n",
    "            print(stack1[len(stack1)-1])\n",
    "            index += 1"
   ]
  },
  {
   "cell_type": "code",
   "execution_count": 60,
   "metadata": {
    "scrolled": true
   },
   "outputs": [
    {
     "name": "stdout",
     "output_type": "stream",
     "text": [
      "14\n",
      "14\n"
     ]
    }
   ],
   "source": [
    "queue(\"10 1 42 2 1 14 3 1 28 3 1 60 1 78 2 2\")"
   ]
  },
  {
   "cell_type": "code",
   "execution_count": 61,
   "metadata": {},
   "outputs": [
    {
     "name": "stdout",
     "output_type": "stream",
     "text": [
      "50\n",
      "30\n"
     ]
    }
   ],
   "source": [
    "queue(\"10 1 60 1 50 2 1 40 3 1 30 1 20 2 2 3\")"
   ]
  },
  {
   "cell_type": "code",
   "execution_count": null,
   "metadata": {},
   "outputs": [],
   "source": []
  }
 ],
 "metadata": {
  "kernelspec": {
   "display_name": "Python 3",
   "language": "python",
   "name": "python3"
  },
  "language_info": {
   "codemirror_mode": {
    "name": "ipython",
    "version": 3
   },
   "file_extension": ".py",
   "mimetype": "text/x-python",
   "name": "python",
   "nbconvert_exporter": "python",
   "pygments_lexer": "ipython3",
   "version": "3.7.6"
  }
 },
 "nbformat": 4,
 "nbformat_minor": 4
}
